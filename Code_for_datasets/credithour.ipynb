{
  "nbformat": 4,
  "nbformat_minor": 0,
  "metadata": {
    "colab": {
      "provenance": [],
      "authorship_tag": "ABX9TyOgBIXVAMJIqsTZ0vTdVjmE",
      "include_colab_link": true
    },
    "kernelspec": {
      "name": "python3",
      "display_name": "Python 3"
    },
    "language_info": {
      "name": "python"
    }
  },
  "cells": [
    {
      "cell_type": "markdown",
      "metadata": {
        "id": "view-in-github",
        "colab_type": "text"
      },
      "source": [
        "<a href=\"https://colab.research.google.com/github/SjSterling/Cosmology/blob/main/credithour.ipynb\" target=\"_parent\"><img src=\"https://colab.research.google.com/assets/colab-badge.svg\" alt=\"Open In Colab\"/></a>"
      ]
    },
    {
      "cell_type": "code",
      "execution_count": null,
      "metadata": {
        "id": "70CMdWXR9MM4"
      },
      "outputs": [],
      "source": [
        "import requests\n",
        "from bs4 import BeautifulSoup\n",
        "\n",
        "start_url = \"http://catalog.valdosta.edu/undergraduate/courses-instruction/\"\n",
        "\n",
        "def get_links(url):\n",
        "    response = requests.get(url)\n",
        "    soup = BeautifulSoup(response.content, \"html.parser\")\n",
        "    links = soup.select('a[href^=\"/undergraduate/courses-instruction/\"]')\n",
        "    return [(link[\"href\"], link.text.strip()) for link in links]\n",
        "\n",
        "def scrape_class_data(url, name):\n",
        "    response = requests.get(url)\n",
        "    soup = BeautifulSoup(response.content, \"html.parser\")\n",
        "    class_blocks = soup.select('div.courseblock')\n",
        "    class_data_list = []\n",
        "    for class_block in class_blocks:\n",
        "        title_element = class_block.select_one('p.courseblocktitle')\n",
        "        title = title_element.text.strip() if title_element else \"No Title Available\"\n",
        "\n",
        "        description_element = class_block.select_one('p.courseblockdesc')\n",
        "        description = description_element.text.strip() if description_element else \"No Description Available\"\n",
        "\n",
        "        # Extract the course code and credit hours from the title\n",
        "        # Assuming the title format is like \"ASTR 1010K - Astronomy of the Solar System (3-0-3)\"\n",
        "        title_parts = title.split('-')\n",
        "        if len(title_parts) >= 2:\n",
        "            course_code = title_parts[0].strip()\n",
        "            credit_hours = title_parts[-1].strip().split('(')[-1].split(')')[0].strip()\n",
        "        else:\n",
        "            course_code = \"No Course Code Available\"\n",
        "            credit_hours = \"0\"  # Default to 0 credit hours\n",
        "\n",
        "        class_data = {\n",
        "            'Name': name,\n",
        "            'Course Code': course_code,\n",
        "            'Title': title,\n",
        "            'Description': description,\n",
        "            'Credit Hours': credit_hours,\n",
        "        }\n",
        "        class_data_list.append(class_data)\n",
        "    return class_data_list\n",
        "\n",
        "def main():\n",
        "    links = get_links(start_url)\n",
        "    all_class_data_list = []\n",
        "    for link, name in links:\n",
        "        full_url = f\"http://catalog.valdosta.edu{link}\"\n",
        "        class_data_list = scrape_class_data(full_url, name)\n",
        "        all_class_data_list.extend(class_data_list)\n",
        "\n",
        "    # Create a dictionary with course code as key and credit hours as value\n",
        "    course_credit_hours = {data['Course Code']: data['Credit Hours'] for data in all_class_data_list}\n",
        "\n",
        "    # Print the course code and credit hours for reference\n",
        "    for course_code, credit_hours in course_credit_hours.items():\n",
        "        print(f\"Course Code: {course_code}, Credit Hours: {credit_hours}\")\n",
        "\n",
        "if __name__ == \"__main__\":\n",
        "    main()\n"
      ]
    }
  ]
}