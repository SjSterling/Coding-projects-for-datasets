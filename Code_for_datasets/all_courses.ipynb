{
  "nbformat": 4,
  "nbformat_minor": 0,
  "metadata": {
    "colab": {
      "provenance": [],
      "authorship_tag": "ABX9TyP3+cV4nj+mq6/aV71dFnIH",
      "include_colab_link": true
    },
    "kernelspec": {
      "name": "python3",
      "display_name": "Python 3"
    },
    "language_info": {
      "name": "python"
    }
  },
  "cells": [
    {
      "cell_type": "markdown",
      "metadata": {
        "id": "view-in-github",
        "colab_type": "text"
      },
      "source": [
        "<a href=\"https://colab.research.google.com/github/SjSterling/Cosmology/blob/main/all_courses.ipynb\" target=\"_parent\"><img src=\"https://colab.research.google.com/assets/colab-badge.svg\" alt=\"Open In Colab\"/></a>"
      ]
    },
    {
      "cell_type": "code",
      "source": [
        "import requests\n",
        "from bs4 import BeautifulSoup\n",
        "import pandas as pd\n",
        "\n",
        "start_url = \"http://catalog.valdosta.edu/undergraduate/courses-instruction/\"\n",
        "\n",
        "def get_links(url):\n",
        "    response = requests.get(url)\n",
        "    soup = BeautifulSoup(response.content, \"html.parser\")\n",
        "    links = soup.select('a[href^=\"/undergraduate/courses-instruction/\"]')\n",
        "    return [(link[\"href\"], link.text.strip()) for link in links]\n",
        "\n",
        "def scrape_class_data(url, name):\n",
        "    response = requests.get(url)\n",
        "    soup = BeautifulSoup(response.content, \"html.parser\")\n",
        "    class_blocks = soup.select('div.courseblock')\n",
        "    class_data_list = []\n",
        "    for class_block in class_blocks:\n",
        "        title_element = class_block.select_one('p.courseblocktitle')\n",
        "        title = title_element.text.strip() if title_element else \"No Title Available\"\n",
        "\n",
        "        description_element = class_block.select_one('p.courseblockdesc')\n",
        "        description = description_element.text.strip() if description_element else \"No Description Available\"\n",
        "\n",
        "        class_data = {\n",
        "            'Name': name,\n",
        "            'Title': title,\n",
        "            'Description': description,\n",
        "        }\n",
        "        class_data_list.append(class_data)\n",
        "    return class_data_list\n",
        "\n",
        "def main():\n",
        "    links = get_links(start_url)\n",
        "    all_class_data_list = []\n",
        "    for link, name in links:\n",
        "        full_url = f\"http://catalog.valdosta.edu{link}\"\n",
        "        class_data_list = scrape_class_data(full_url, name)\n",
        "        all_class_data_list.extend(class_data_list)\n",
        "\n",
        "    # Create a DataFrame for all the data\n",
        "    df = pd.DataFrame(all_class_data_list)\n",
        "\n",
        "    # Save the DataFrame to a CSV file\n",
        "    df.to_csv(\"course_data.csv\", index=False)\n",
        "\n",
        "\n",
        "if __name__ == \"__main__\":\n",
        "    main()\n"
      ],
      "metadata": {
        "colab": {
          "base_uri": "https://localhost:8080/"
        },
        "id": "keeG7_5KdbYX",
        "outputId": "9847a29f-8f35-498e-f2ef-abe317eaf550"
      },
      "execution_count": null,
      "outputs": [
        {
          "output_type": "stream",
          "name": "stderr",
          "text": [
            "WARNING:bs4.dammit:Some characters could not be decoded, and were replaced with REPLACEMENT CHARACTER.\n"
          ]
        }
      ]
    }
  ]
}